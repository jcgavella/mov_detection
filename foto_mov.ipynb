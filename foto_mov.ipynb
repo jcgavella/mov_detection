{
 "cells": [
  {
   "cell_type": "code",
   "execution_count": 7,
   "metadata": {},
   "outputs": [],
   "source": [
    "# http://www.technicdynamic.com/2017/08/28/python-motion-detection-with-opencv-simple/\n",
    "\n",
    "import numpy as np\t\t      # importing Numpy for use w/ OpenCV\n",
    "import cv2                            # importing Python OpenCV\n",
    "from datetime import datetime         # importing datetime for naming files w/ timestamp\n",
    "\n",
    "def diffImg(t0, t1, t2):              # Function to calculate difference between images.\n",
    "  d1 = cv2.absdiff(t2, t1)\n",
    "  d2 = cv2.absdiff(t1, t0)\n",
    "  return cv2.bitwise_and(d1, d2)\n",
    "\n",
    "threshold = 110000                 # Threshold for triggering \"motion detection\"\n",
    "cam = cv2.VideoCapture(1)             # Lets initialize capture on webcam\n",
    "#cam = cv2.VideoCapture(\"people-walking.mp4\")\n",
    "\n",
    "winName = \"Movement Indicator\"\t      # comment to hide window\n",
    "cv2.namedWindow(winName)              # comment to hide window\n",
    "\n",
    "# Read three images first:\n",
    "t_minus = cv2.cvtColor(cam.read()[1], cv2.COLOR_RGB2GRAY)\n",
    "t = cv2.cvtColor(cam.read()[1], cv2.COLOR_RGB2GRAY)\n",
    "t_plus = cv2.cvtColor(cam.read()[1], cv2.COLOR_RGB2GRAY)\n",
    "# Lets use a time check so we only take 1 pic per sec\n",
    "timeCheck = datetime.now().strftime('%Ss')\n",
    "\n",
    "while True:\n",
    "  ret, frame = cam.read()\t      # read from camera\n",
    "  totalDiff = cv2.countNonZero(diffImg(t_minus, t, t_plus))\t# this is total difference number\n",
    "  text = \"threshold: \" + str(totalDiff)\t\t\t\t# make a text showing total diff.\n",
    "  cv2.putText(frame, text, (20,40), cv2.FONT_HERSHEY_SIMPLEX, 1, (0,0,0), 2)   # display it on screen\n",
    "  if totalDiff > threshold and timeCheck != datetime.now().strftime('%Ss'):\n",
    "    dimg= cam.read()[1]\n",
    "    cv2.imwrite(datetime.now().strftime('%Y%m%d_%Hh%Mm%Ss%f') + '.jpg', dimg)\n",
    "  timeCheck = datetime.now().strftime('%Ss')\n",
    "  # Read next image\n",
    "  t_minus = t\n",
    "  t = t_plus\n",
    "  t_plus = cv2.cvtColor(cam.read()[1], cv2.COLOR_RGB2GRAY)\n",
    "  cv2.imshow(winName, frame)\n",
    "  \n",
    "  key = cv2.waitKey(10)\n",
    "  if key == 27:\t\t\t # comment this 'if' to hide window\n",
    "    cv2.destroyWindow(winName)\n",
    "    break\n",
    "    \n",
    "cam.release()\n"
   ]
  }
 ],
 "metadata": {
  "kernelspec": {
   "display_name": "Python 3",
   "language": "python",
   "name": "python3"
  },
  "language_info": {
   "codemirror_mode": {
    "name": "ipython",
    "version": 3
   },
   "file_extension": ".py",
   "mimetype": "text/x-python",
   "name": "python",
   "nbconvert_exporter": "python",
   "pygments_lexer": "ipython3",
   "version": "3.5.2"
  }
 },
 "nbformat": 4,
 "nbformat_minor": 2
}
